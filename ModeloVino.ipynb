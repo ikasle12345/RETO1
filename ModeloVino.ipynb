{
 "cells": [
  {
   "cell_type": "code",
   "execution_count": 31,
   "metadata": {},
   "outputs": [
    {
     "name": "stdout",
     "output_type": "stream",
     "text": [
      "PREDICCIONES:\n",
      "[2. 2. 1. 2. 1. 3. 2. 1. 3. 2.]\n",
      "------------------------------------------\n",
      "Uvas almacenados\n",
      "161    3\n",
      "117    2\n",
      "19     1\n",
      "69     2\n",
      "53     1\n",
      "138    3\n",
      "112    2\n",
      "14     1\n",
      "160    3\n",
      "107    2\n",
      "Name: class, dtype: int64\n",
      "MAE:\n",
      "10.0%\n"
     ]
    }
   ],
   "source": [
    "import pandas as pd\n",
    "from sklearn.tree import DecisionTreeRegressor\n",
    "from sklearn.model_selection import train_test_split\n",
    "from sklearn.metrics import mean_absolute_error\n",
    "\n",
    "wine_file_path = 'Wine_dataset.csv'\n",
    "wine_data = pd.read_csv(wine_file_path) \n",
    "\n",
    "y=wine_data['class']\n",
    "wine_features = ['Malic acid', 'Alcohol', 'Hue', 'Flavanoids', 'Proanthocyanins']\n",
    "x=wine_data[wine_features]\n",
    "\n",
    "train_x, val_x, train_y, val_y = train_test_split(x, y, random_state= 1)\n",
    "\n",
    "wine_model = DecisionTreeRegressor(random_state=1)\n",
    "wine_model.fit(train_x, train_y)\n",
    "\n",
    "predictions = wine_model.predict(val_x.head(10))\n",
    "print(\"PREDICCIONES:\")\n",
    "\n",
    "print(predictions)\n",
    "print('------------------------------------------')\n",
    "print('Uvas almacenados')\n",
    "print(val_y.head(10))\n",
    "print('Accuracy:')\n",
    "print(f'{mean_absolute_error(val_y.head(10), predictions)*100}%')\n",
    "\n",
    "\n"
   ]
  }
 ],
 "metadata": {
  "kernelspec": {
   "display_name": "5073",
   "language": "python",
   "name": "python3"
  },
  "language_info": {
   "codemirror_mode": {
    "name": "ipython",
    "version": 3
   },
   "file_extension": ".py",
   "mimetype": "text/x-python",
   "name": "python",
   "nbconvert_exporter": "python",
   "pygments_lexer": "ipython3",
   "version": "3.12.5"
  }
 },
 "nbformat": 4,
 "nbformat_minor": 2
}
